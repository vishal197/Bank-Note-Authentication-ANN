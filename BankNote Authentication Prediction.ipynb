{
 "cells": [
  {
   "cell_type": "markdown",
   "metadata": {},
   "source": [
    "Name: Vishal Patel\n",
    "Student Id: 301169302"
   ]
  },
  {
   "cell_type": "code",
   "execution_count": 1,
   "metadata": {},
   "outputs": [],
   "source": [
    "import pandas as pd"
   ]
  },
  {
   "cell_type": "code",
   "execution_count": 9,
   "metadata": {},
   "outputs": [],
   "source": [
    "df_vishal = pd.read_csv('E:/Centennial/semester-3/Neural Network/Midterm/banknote_authentication.csv', header=None)"
   ]
  },
  {
   "cell_type": "code",
   "execution_count": 49,
   "metadata": {},
   "outputs": [],
   "source": [
    "columns = ['Variance','Skewness','Curtosis','Entropy of Image','Class']"
   ]
  },
  {
   "cell_type": "code",
   "execution_count": 50,
   "metadata": {},
   "outputs": [],
   "source": [
    "df_vishal.columns = columns"
   ]
  },
  {
   "cell_type": "code",
   "execution_count": 51,
   "metadata": {},
   "outputs": [
    {
     "data": {
      "text/html": [
       "<div>\n",
       "<style scoped>\n",
       "    .dataframe tbody tr th:only-of-type {\n",
       "        vertical-align: middle;\n",
       "    }\n",
       "\n",
       "    .dataframe tbody tr th {\n",
       "        vertical-align: top;\n",
       "    }\n",
       "\n",
       "    .dataframe thead th {\n",
       "        text-align: right;\n",
       "    }\n",
       "</style>\n",
       "<table border=\"1\" class=\"dataframe\">\n",
       "  <thead>\n",
       "    <tr style=\"text-align: right;\">\n",
       "      <th></th>\n",
       "      <th>Variance</th>\n",
       "      <th>Skewness</th>\n",
       "      <th>Curtosis</th>\n",
       "      <th>Entropy of Image</th>\n",
       "      <th>Class</th>\n",
       "    </tr>\n",
       "  </thead>\n",
       "  <tbody>\n",
       "    <tr>\n",
       "      <th>0</th>\n",
       "      <td>3.62160</td>\n",
       "      <td>8.66610</td>\n",
       "      <td>-2.8073</td>\n",
       "      <td>-0.44699</td>\n",
       "      <td>0</td>\n",
       "    </tr>\n",
       "    <tr>\n",
       "      <th>1</th>\n",
       "      <td>4.54590</td>\n",
       "      <td>8.16740</td>\n",
       "      <td>-2.4586</td>\n",
       "      <td>-1.46210</td>\n",
       "      <td>0</td>\n",
       "    </tr>\n",
       "    <tr>\n",
       "      <th>2</th>\n",
       "      <td>3.86600</td>\n",
       "      <td>-2.63830</td>\n",
       "      <td>1.9242</td>\n",
       "      <td>0.10645</td>\n",
       "      <td>0</td>\n",
       "    </tr>\n",
       "    <tr>\n",
       "      <th>3</th>\n",
       "      <td>3.45660</td>\n",
       "      <td>9.52280</td>\n",
       "      <td>-4.0112</td>\n",
       "      <td>-3.59440</td>\n",
       "      <td>0</td>\n",
       "    </tr>\n",
       "    <tr>\n",
       "      <th>4</th>\n",
       "      <td>0.32924</td>\n",
       "      <td>-4.45520</td>\n",
       "      <td>4.5718</td>\n",
       "      <td>-0.98880</td>\n",
       "      <td>0</td>\n",
       "    </tr>\n",
       "    <tr>\n",
       "      <th>...</th>\n",
       "      <td>...</td>\n",
       "      <td>...</td>\n",
       "      <td>...</td>\n",
       "      <td>...</td>\n",
       "      <td>...</td>\n",
       "    </tr>\n",
       "    <tr>\n",
       "      <th>1367</th>\n",
       "      <td>0.40614</td>\n",
       "      <td>1.34920</td>\n",
       "      <td>-1.4501</td>\n",
       "      <td>-0.55949</td>\n",
       "      <td>1</td>\n",
       "    </tr>\n",
       "    <tr>\n",
       "      <th>1368</th>\n",
       "      <td>-1.38870</td>\n",
       "      <td>-4.87730</td>\n",
       "      <td>6.4774</td>\n",
       "      <td>0.34179</td>\n",
       "      <td>1</td>\n",
       "    </tr>\n",
       "    <tr>\n",
       "      <th>1369</th>\n",
       "      <td>-3.75030</td>\n",
       "      <td>-13.45860</td>\n",
       "      <td>17.5932</td>\n",
       "      <td>-2.77710</td>\n",
       "      <td>1</td>\n",
       "    </tr>\n",
       "    <tr>\n",
       "      <th>1370</th>\n",
       "      <td>-3.56370</td>\n",
       "      <td>-8.38270</td>\n",
       "      <td>12.3930</td>\n",
       "      <td>-1.28230</td>\n",
       "      <td>1</td>\n",
       "    </tr>\n",
       "    <tr>\n",
       "      <th>1371</th>\n",
       "      <td>-2.54190</td>\n",
       "      <td>-0.65804</td>\n",
       "      <td>2.6842</td>\n",
       "      <td>1.19520</td>\n",
       "      <td>1</td>\n",
       "    </tr>\n",
       "  </tbody>\n",
       "</table>\n",
       "<p>1372 rows × 5 columns</p>\n",
       "</div>"
      ],
      "text/plain": [
       "      Variance  Skewness  Curtosis  Entropy of Image  Class\n",
       "0      3.62160   8.66610   -2.8073          -0.44699      0\n",
       "1      4.54590   8.16740   -2.4586          -1.46210      0\n",
       "2      3.86600  -2.63830    1.9242           0.10645      0\n",
       "3      3.45660   9.52280   -4.0112          -3.59440      0\n",
       "4      0.32924  -4.45520    4.5718          -0.98880      0\n",
       "...        ...       ...       ...               ...    ...\n",
       "1367   0.40614   1.34920   -1.4501          -0.55949      1\n",
       "1368  -1.38870  -4.87730    6.4774           0.34179      1\n",
       "1369  -3.75030 -13.45860   17.5932          -2.77710      1\n",
       "1370  -3.56370  -8.38270   12.3930          -1.28230      1\n",
       "1371  -2.54190  -0.65804    2.6842           1.19520      1\n",
       "\n",
       "[1372 rows x 5 columns]"
      ]
     },
     "execution_count": 51,
     "metadata": {},
     "output_type": "execute_result"
    }
   ],
   "source": [
    "df_vishal"
   ]
  },
  {
   "cell_type": "code",
   "execution_count": 12,
   "metadata": {},
   "outputs": [],
   "source": [
    "X, D = df_vishal.values[:, :-1], df_vishal.values[:, -1]"
   ]
  },
  {
   "cell_type": "code",
   "execution_count": 13,
   "metadata": {},
   "outputs": [],
   "source": [
    "X = X.astype('float32')"
   ]
  },
  {
   "cell_type": "code",
   "execution_count": 15,
   "metadata": {},
   "outputs": [
    {
     "data": {
      "text/plain": [
       "array([[  3.6216 ,   8.6661 ,  -2.8073 ,  -0.44699],\n",
       "       [  4.5459 ,   8.1674 ,  -2.4586 ,  -1.4621 ],\n",
       "       [  3.866  ,  -2.6383 ,   1.9242 ,   0.10645],\n",
       "       ...,\n",
       "       [ -3.7503 , -13.4586 ,  17.5932 ,  -2.7771 ],\n",
       "       [ -3.5637 ,  -8.3827 ,  12.393  ,  -1.2823 ],\n",
       "       [ -2.5419 ,  -0.65804,   2.6842 ,   1.1952 ]], dtype=float32)"
      ]
     },
     "execution_count": 15,
     "metadata": {},
     "output_type": "execute_result"
    }
   ],
   "source": [
    "X"
   ]
  },
  {
   "cell_type": "code",
   "execution_count": 16,
   "metadata": {},
   "outputs": [
    {
     "data": {
      "text/plain": [
       "array([0., 0., 0., ..., 1., 1., 1.])"
      ]
     },
     "execution_count": 16,
     "metadata": {},
     "output_type": "execute_result"
    }
   ],
   "source": [
    "D"
   ]
  },
  {
   "cell_type": "code",
   "execution_count": 24,
   "metadata": {},
   "outputs": [
    {
     "name": "stdout",
     "output_type": "stream",
     "text": [
      "(919, 4) (453, 4) (919,) (453,)\n"
     ]
    }
   ],
   "source": [
    "from sklearn.model_selection import train_test_split\n",
    "X_train, X_test, d_train, d_test = train_test_split(X, D, test_size=0.33)\n",
    "print(X_train.shape, X_test.shape, d_train.shape, d_test.shape)"
   ]
  },
  {
   "cell_type": "markdown",
   "metadata": {},
   "source": [
    "# BackPropagation Algorithm for 4-6-1 net"
   ]
  },
  {
   "cell_type": "code",
   "execution_count": 11,
   "metadata": {},
   "outputs": [],
   "source": [
    "import numpy as np\n",
    "import matplotlib.pyplot as pl\n",
    "%matplotlib inline\n",
    "#\n",
    "# function to compute the sigmoid\n",
    "sigmoid = lambda x: 1/(1 + np.exp(-x));\n",
    "#\n",
    "################################################################################\n",
    "# This function implements the backpropagation algorithm for a simple 4-6-1 ANN \n",
    "#  W1 and W2 are the weight matrices of the respective layers:\n",
    "#   W1 is the weight matrix between the input layer and hidden layer\n",
    "#   W2 is the weight matrix between the hidden layer and output layer. \n",
    "#  X and D are the input and correct output of the training data, respectively.\n",
    "################################################################################\n",
    "def backprop(W1, W2, X, D):\n",
    "    alpha = 0.9; # learning rate\n",
    "    N=4;\n",
    "    for k in range(0,N):\n",
    "        x = X[k, :].T; #inputs from training data\n",
    "        #print(\"x=\",x)\n",
    "        d = D[k]; # correct output from training data\n",
    "        ##########################\n",
    "        # forward propagation step\n",
    "        ##########################\n",
    "        # calculate the weighted sum of hidden node\n",
    "        v1 = np.dot(W1,x);\n",
    "        #print(\"v1= \", v1)\n",
    "        #pass the weighted sum to the activation function, this gives the outputs from hidden layer\n",
    "        y1 = sigmoid(v1);\n",
    "        #print(\"y1= \", y1)\n",
    "        #calculate the weighted sum of the output layer\n",
    "        v = np.dot(W2,y1);\n",
    "        #print(\"v\", v)\n",
    "        # pass it to the activation function, this returns the output of the third layer\n",
    "        y = sigmoid(v);\n",
    "        #print(\"y=\",y)\n",
    "        #calculate the error, difference between correct output and computed output\n",
    "        e = d - y;\n",
    "        #print(\"e= \",e)\n",
    "        #calculate delta, derivative of the activation function times the error\n",
    "        # note that 𝜎′(𝑥)=𝜎(𝑥)∙(1− 𝜎(𝑥)) = y * (1-y)\n",
    "        delta = y*(1-y)*e; # element wise multiplication\n",
    "        #print(\"delta= \",delta)\n",
    "        ###########################\n",
    "        # Backward propagation step\n",
    "        ###########################\n",
    "        # propagate the output node delta, δ, backward, and calculate the deltas of the hidden layer.\n",
    "        e1 = np.dot(W2.T, delta);\n",
    "        #print(\"e1= \",e1)\n",
    "        delta1 = y1*(1-y1)*e1;  # element wise multiplication\n",
    "        #print(\"delta1= \",delta1)\n",
    "        #\n",
    "        # Adjust the weights according to the learning rule\n",
    "        delta1.shape=(6,1) # column vector of deltas for the hidden layer\n",
    "        x.shape=(1,4) # row vector of the current input\n",
    "        dW1 = alpha*np.dot(delta1,x);\n",
    "        W1 = W1 + dW1;\n",
    "        #\n",
    "        y1.shape = (1,6)\n",
    "        #print(y1.T.shape)\n",
    "        dW2 = alpha*np.dot(delta,y1);\n",
    "        W2 = W2 + dW2;\n",
    "    #\n",
    "    return W1, W2;"
   ]
  },
  {
   "cell_type": "markdown",
   "metadata": {},
   "source": [
    "# Testing Data with Csv "
   ]
  },
  {
   "cell_type": "code",
   "execution_count": 17,
   "metadata": {},
   "outputs": [],
   "source": [
    "#initializing weights\n",
    "W1 = 2*np.random.rand(6, 4) - 1;\n",
    "W2 = 2*np.random.rand(1, 6) - 1;"
   ]
  },
  {
   "cell_type": "code",
   "execution_count": 25,
   "metadata": {},
   "outputs": [],
   "source": [
    "#running backpropafation algo for computing weights\n",
    "for epoch in range(1,10000): # train\n",
    "    W1, W2 = backprop(W1, W2, X_train, d_train);"
   ]
  },
  {
   "cell_type": "code",
   "execution_count": 52,
   "metadata": {},
   "outputs": [
    {
     "name": "stdout",
     "output_type": "stream",
     "text": [
      "Predicted y= [0.00301434]\n",
      "Predicted y= [0.9994134]\n",
      "Predicted y= [0.00469213]\n",
      "Predicted y= [0.0040416]\n",
      "Predicted y= [0.00382023]\n",
      "Predicted y= [0.00153196]\n",
      "Predicted y= [0.00178616]\n",
      "Predicted y= [0.98311336]\n",
      "Predicted y= [0.0038017]\n",
      "Predicted y= [0.99273441]\n",
      "Predicted y= [0.9956484]\n",
      "Predicted y= [0.99661415]\n",
      "Predicted y= [0.9924845]\n",
      "Predicted y= [0.00834485]\n",
      "Predicted y= [0.9901922]\n",
      "Predicted y= [0.99921756]\n",
      "Predicted y= [0.99153125]\n",
      "Predicted y= [0.71084829]\n",
      "Predicted y= [0.01070868]\n",
      "Predicted y= [0.00402926]\n",
      "Predicted y= [0.99279198]\n",
      "Predicted y= [0.0040549]\n",
      "Predicted y= [0.88289846]\n",
      "Predicted y= [0.80882712]\n",
      "Predicted y= [0.04389153]\n",
      "Predicted y= [0.98548989]\n",
      "Predicted y= [0.00112757]\n",
      "Predicted y= [0.00110384]\n",
      "Predicted y= [0.0015422]\n",
      "Predicted y= [0.47855753]\n",
      "Predicted y= [0.01888229]\n",
      "Predicted y= [0.00398043]\n",
      "Predicted y= [0.00404189]\n",
      "Predicted y= [0.00133184]\n",
      "Predicted y= [0.13357237]\n",
      "Predicted y= [0.98432926]\n",
      "Predicted y= [0.99263147]\n",
      "Predicted y= [0.66971214]\n",
      "Predicted y= [0.00409547]\n",
      "Predicted y= [0.00404087]\n",
      "Predicted y= [0.00494755]\n",
      "Predicted y= [0.00135248]\n",
      "Predicted y= [0.54903326]\n",
      "Predicted y= [0.99949251]\n",
      "Predicted y= [0.00834773]\n",
      "Predicted y= [0.98921795]\n",
      "Predicted y= [0.99258402]\n",
      "Predicted y= [0.00219188]\n",
      "Predicted y= [0.99262288]\n",
      "Predicted y= [0.00458582]\n",
      "Predicted y= [0.00402574]\n",
      "Predicted y= [0.00196]\n",
      "Predicted y= [0.00163505]\n",
      "Predicted y= [0.0011954]\n",
      "Predicted y= [0.97800164]\n",
      "Predicted y= [0.00362179]\n",
      "Predicted y= [0.0109499]\n",
      "Predicted y= [0.0011875]\n",
      "Predicted y= [0.00171566]\n",
      "Predicted y= [0.00125783]\n",
      "Predicted y= [0.99958943]\n",
      "Predicted y= [0.05400279]\n",
      "Predicted y= [0.00406282]\n",
      "Predicted y= [0.04535795]\n",
      "Predicted y= [0.99264762]\n",
      "Predicted y= [0.06504693]\n",
      "Predicted y= [0.5084737]\n",
      "Predicted y= [0.86253792]\n",
      "Predicted y= [0.00273293]\n",
      "Predicted y= [0.00899916]\n",
      "Predicted y= [0.99813639]\n",
      "Predicted y= [0.00402861]\n",
      "Predicted y= [0.00405284]\n",
      "Predicted y= [0.9927034]\n",
      "Predicted y= [0.2099532]\n"
     ]
    }
   ],
   "source": [
    "#getting outputs for few data from training data\n",
    "\n",
    "N=75\n",
    "for k in range(0,N):\n",
    "    x = X_test[k, :].T; #inputs from training data\n",
    "    #print(\"x=\",x)\n",
    "    d = d_test[k]; # correct output from training data\n",
    "    ##########################\n",
    "    # forward propagation step\n",
    "    ##########################\n",
    "    # calculate the weighted sum of hidden node\n",
    "    v1 = np.dot(W1,x);\n",
    "    \n",
    "    #pass the weighted sum to the activation function, this gives the outputs from hidden layer\n",
    "    y1 = sigmoid(v1);\n",
    "    \n",
    "    #calculate the weighted sum of the output layer\n",
    "    v = np.dot(W2,y1);\n",
    "    \n",
    "    # pass it to the activation function, this returns the output of the third layer\n",
    "    y = sigmoid(v);\n",
    "    print(\"Predicted y=\",y)"
   ]
  },
  {
   "cell_type": "code",
   "execution_count": 35,
   "metadata": {},
   "outputs": [],
   "source": [
    "testing_data1 = [-2.3142, 2.0838, -0.46813, -1.6767]\n",
    "testing_data2 = [2.9856, 7.2673, -0.409, -2.2431]\n",
    "testing_data3 = [ 2.994, 7.2011, -1.2153, 0.3211]"
   ]
  },
  {
   "cell_type": "code",
   "execution_count": 47,
   "metadata": {},
   "outputs": [
    {
     "name": "stdout",
     "output_type": "stream",
     "text": [
      "x= [ 4.988   7.2052 -3.2846 -1.1608]  ,y= 1.0  , predicted value= [0.98251201]\n"
     ]
    }
   ],
   "source": [
    "# calculate the weighted sum of hidden node\n",
    "value=0.0\n",
    "v1 = np.dot(W1,testing_data1);\n",
    "    \n",
    "#pass the weighted sum to the activation function, this gives the outputs from hidden layer\n",
    "y1 = sigmoid(v1);\n",
    "    \n",
    "#calculate the weighted sum of the output layer\n",
    "v = np.dot(W2,y1);\n",
    "    \n",
    "# pass it to the activation function, this returns the output of the third layer\n",
    "y = sigmoid(v);\n",
    "if(y>0.5):\n",
    "    value=1.0\n",
    "print(\"x=\",x,\" ,y=\",value,\" , predicted value=\",y)"
   ]
  },
  {
   "cell_type": "code",
   "execution_count": 44,
   "metadata": {},
   "outputs": [
    {
     "name": "stdout",
     "output_type": "stream",
     "text": [
      "x= [ 4.988   7.2052 -3.2846 -1.1608]  ,y= 0.0  , predicted value= [0.0036977]\n"
     ]
    }
   ],
   "source": [
    "# calculate the weighted sum of hidden node\n",
    "value=0.0\n",
    "v1 = np.dot(W1,testing_data2);\n",
    "    \n",
    "#pass the weighted sum to the activation function, this gives the outputs from hidden layer\n",
    "y1 = sigmoid(v1);\n",
    "    \n",
    "#calculate the weighted sum of the output layer\n",
    "v = np.dot(W2,y1);\n",
    "    \n",
    "# pass it to the activation function, this returns the output of the third layer\n",
    "y = sigmoid(v);\n",
    "\n",
    "if y[0]>0.5:\n",
    "    value=1.0\n",
    "print(\"x=\",x,\" ,y=\",value,\" , predicted value=\",y)"
   ]
  },
  {
   "cell_type": "code",
   "execution_count": 48,
   "metadata": {},
   "outputs": [
    {
     "name": "stdout",
     "output_type": "stream",
     "text": [
      "x= [ 4.988   7.2052 -3.2846 -1.1608]  ,y= 0.0  , predicted value= [0.00345015]\n"
     ]
    }
   ],
   "source": [
    "# calculate the weighted sum of hidden node\n",
    "value=0.0\n",
    "v1 = np.dot(W1,testing_data3);\n",
    "    \n",
    "#pass the weighted sum to the activation function, this gives the outputs from hidden layer\n",
    "y1 = sigmoid(v1);\n",
    "    \n",
    "#calculate the weighted sum of the output layer\n",
    "v = np.dot(W2,y1);\n",
    "    \n",
    "# pass it to the activation function, this returns the output of the third layer\n",
    "y = sigmoid(v);\n",
    "\n",
    "if y[0]>0.5:\n",
    "    value=1.0\n",
    "print(\"x=\",x,\" ,y=\",value,\" , predicted value=\",y)"
   ]
  },
  {
   "cell_type": "code",
   "execution_count": null,
   "metadata": {},
   "outputs": [],
   "source": []
  }
 ],
 "metadata": {
  "kernelspec": {
   "display_name": "Python 3",
   "language": "python",
   "name": "python3"
  },
  "language_info": {
   "codemirror_mode": {
    "name": "ipython",
    "version": 3
   },
   "file_extension": ".py",
   "mimetype": "text/x-python",
   "name": "python",
   "nbconvert_exporter": "python",
   "pygments_lexer": "ipython3",
   "version": "3.8.5"
  }
 },
 "nbformat": 4,
 "nbformat_minor": 4
}
